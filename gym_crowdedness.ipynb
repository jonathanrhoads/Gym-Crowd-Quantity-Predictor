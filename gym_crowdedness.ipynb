{
 "cells": [
  {
   "cell_type": "code",
   "execution_count": 132,
   "id": "a41cef95",
   "metadata": {},
   "outputs": [],
   "source": [
    "# Imports libraries\n",
    "import warnings\n",
    "warnings.filterwarnings('ignore')\n",
    "import pandas as pd\n",
    "#import matplotlib.pyplot as plt\n",
    "import seaborn as sb\n",
    "import ipywidgets as widgets\n",
    "from __future__ import print_function\n",
    "from ipywidgets import interact, interactive, fixed\n",
    "from sklearn import linear_model\n"
   ]
  },
  {
   "cell_type": "code",
   "execution_count": 133,
   "id": "6f5928d3",
   "metadata": {},
   "outputs": [],
   "source": [
    "#!jupyter nbextension enable --py widgetsnbextension --sys-prefix\n",
    "#!jupyter serverextension enable voila --sys-prefix"
   ]
  },
  {
   "cell_type": "code",
   "execution_count": 134,
   "id": "81cf0156",
   "metadata": {
    "scrolled": true
   },
   "outputs": [],
   "source": [
    "# Imports data\n",
    "data=pd.read_csv('C:/Users/jonat/OneDrive/Desktop/data.csv')"
   ]
  },
  {
   "cell_type": "code",
   "execution_count": 135,
   "id": "4d56dad9",
   "metadata": {},
   "outputs": [],
   "source": [
    "table_text = widgets.HTML(value=\"<p>Here are the top 10 data points from the data set being used. The data set is information recorded from a gym every 10 minutes for a year.</p>\")\n",
    "purpose_text = widgets.HTML(value=\"<p>Our goal with this data is to use the timestamp and temperature columns then perform multi-linear regression to estimate the amount of people we are likely to find in the gym at a given time and temperature.</p>\")\n",
    "bar_text = widgets.HTML(value=\"<h4>Total count of individuals through the year at each hour of the day</h4><p>As you can see from the bar graph, people are more likely to visit the gym later in the day.</p>\")\n",
    "scatter_text = widgets.HTML(value=\"<h4>Number of people in the gym at ranging temperatures</h4><p>At first you would think that the weather effects when people would show up to the gym. However, this scatter plot shows that it does not have much bearing.</p>\")\n",
    "prediction_text = widgets.HTML(value=\"<h4>Crowdedness Predictor</h4><p>Select a temperature and time and we will predict how many people will be in the gym.</p>\")"
   ]
  },
  {
   "cell_type": "code",
   "execution_count": 136,
   "id": "db2f9ace",
   "metadata": {},
   "outputs": [],
   "source": [
    "line_0 = widgets.HTML(value=\"<h1>Gym Crowd Prediction</h1><h4>by Jon Rhoads</h4>\")\n",
    "line_1 = widgets.VBox([table_text, purpose_text])\n",
    "line_2 = widgets.HBox([bar_text])\n",
    "line_3 = widgets.VBox([scatter_text])\n",
    "line_4 = widgets.VBox([prediction_text])"
   ]
  },
  {
   "cell_type": "code",
   "execution_count": 137,
   "id": "181d79de",
   "metadata": {},
   "outputs": [
    {
     "data": {
      "application/vnd.jupyter.widget-view+json": {
       "model_id": "db414c79a2f3433783cb03eb02adf97a",
       "version_major": 2,
       "version_minor": 0
      },
      "text/plain": [
       "HTML(value='<h1>Gym Crowd Prediction</h1><h4>by Jon Rhoads</h4>')"
      ]
     },
     "metadata": {},
     "output_type": "display_data"
    }
   ],
   "source": [
    "display(line_0)"
   ]
  },
  {
   "cell_type": "code",
   "execution_count": 138,
   "id": "b2e126e5",
   "metadata": {},
   "outputs": [
    {
     "data": {
      "application/vnd.jupyter.widget-view+json": {
       "model_id": "e96d9f9ab58b4b0aa68c15c4fa75f26f",
       "version_major": 2,
       "version_minor": 0
      },
      "text/plain": [
       "VBox(children=(HTML(value='<p>Here are the top 10 data points from the data set being used. The data set is in…"
      ]
     },
     "metadata": {},
     "output_type": "display_data"
    }
   ],
   "source": [
    "display(line_1)"
   ]
  },
  {
   "cell_type": "code",
   "execution_count": 139,
   "id": "e96a1bdc",
   "metadata": {},
   "outputs": [
    {
     "data": {
      "text/html": [
       "<div>\n",
       "<style scoped>\n",
       "    .dataframe tbody tr th:only-of-type {\n",
       "        vertical-align: middle;\n",
       "    }\n",
       "\n",
       "    .dataframe tbody tr th {\n",
       "        vertical-align: top;\n",
       "    }\n",
       "\n",
       "    .dataframe thead th {\n",
       "        text-align: right;\n",
       "    }\n",
       "</style>\n",
       "<table border=\"1\" class=\"dataframe\">\n",
       "  <thead>\n",
       "    <tr style=\"text-align: right;\">\n",
       "      <th></th>\n",
       "      <th>number_people</th>\n",
       "      <th>date</th>\n",
       "      <th>timestamp</th>\n",
       "      <th>day_of_week</th>\n",
       "      <th>is_weekend</th>\n",
       "      <th>is_holiday</th>\n",
       "      <th>temperature</th>\n",
       "      <th>is_start_of_semester</th>\n",
       "      <th>is_during_semester</th>\n",
       "      <th>month</th>\n",
       "      <th>hour</th>\n",
       "    </tr>\n",
       "  </thead>\n",
       "  <tbody>\n",
       "    <tr>\n",
       "      <th>0</th>\n",
       "      <td>37</td>\n",
       "      <td>2015-08-14 17:00:11-07:00</td>\n",
       "      <td>61211</td>\n",
       "      <td>4</td>\n",
       "      <td>0</td>\n",
       "      <td>0</td>\n",
       "      <td>71.76</td>\n",
       "      <td>0</td>\n",
       "      <td>0</td>\n",
       "      <td>8</td>\n",
       "      <td>17</td>\n",
       "    </tr>\n",
       "    <tr>\n",
       "      <th>1</th>\n",
       "      <td>45</td>\n",
       "      <td>2015-08-14 17:20:14-07:00</td>\n",
       "      <td>62414</td>\n",
       "      <td>4</td>\n",
       "      <td>0</td>\n",
       "      <td>0</td>\n",
       "      <td>71.76</td>\n",
       "      <td>0</td>\n",
       "      <td>0</td>\n",
       "      <td>8</td>\n",
       "      <td>17</td>\n",
       "    </tr>\n",
       "    <tr>\n",
       "      <th>2</th>\n",
       "      <td>40</td>\n",
       "      <td>2015-08-14 17:30:15-07:00</td>\n",
       "      <td>63015</td>\n",
       "      <td>4</td>\n",
       "      <td>0</td>\n",
       "      <td>0</td>\n",
       "      <td>71.76</td>\n",
       "      <td>0</td>\n",
       "      <td>0</td>\n",
       "      <td>8</td>\n",
       "      <td>17</td>\n",
       "    </tr>\n",
       "    <tr>\n",
       "      <th>3</th>\n",
       "      <td>44</td>\n",
       "      <td>2015-08-14 17:40:16-07:00</td>\n",
       "      <td>63616</td>\n",
       "      <td>4</td>\n",
       "      <td>0</td>\n",
       "      <td>0</td>\n",
       "      <td>71.76</td>\n",
       "      <td>0</td>\n",
       "      <td>0</td>\n",
       "      <td>8</td>\n",
       "      <td>17</td>\n",
       "    </tr>\n",
       "    <tr>\n",
       "      <th>4</th>\n",
       "      <td>45</td>\n",
       "      <td>2015-08-14 17:50:17-07:00</td>\n",
       "      <td>64217</td>\n",
       "      <td>4</td>\n",
       "      <td>0</td>\n",
       "      <td>0</td>\n",
       "      <td>71.76</td>\n",
       "      <td>0</td>\n",
       "      <td>0</td>\n",
       "      <td>8</td>\n",
       "      <td>17</td>\n",
       "    </tr>\n",
       "    <tr>\n",
       "      <th>5</th>\n",
       "      <td>46</td>\n",
       "      <td>2015-08-14 18:00:18-07:00</td>\n",
       "      <td>64818</td>\n",
       "      <td>4</td>\n",
       "      <td>0</td>\n",
       "      <td>0</td>\n",
       "      <td>72.15</td>\n",
       "      <td>0</td>\n",
       "      <td>0</td>\n",
       "      <td>8</td>\n",
       "      <td>18</td>\n",
       "    </tr>\n",
       "    <tr>\n",
       "      <th>6</th>\n",
       "      <td>43</td>\n",
       "      <td>2015-08-14 18:20:08-07:00</td>\n",
       "      <td>66008</td>\n",
       "      <td>4</td>\n",
       "      <td>0</td>\n",
       "      <td>0</td>\n",
       "      <td>72.15</td>\n",
       "      <td>0</td>\n",
       "      <td>0</td>\n",
       "      <td>8</td>\n",
       "      <td>18</td>\n",
       "    </tr>\n",
       "    <tr>\n",
       "      <th>7</th>\n",
       "      <td>53</td>\n",
       "      <td>2015-08-14 18:30:09-07:00</td>\n",
       "      <td>66609</td>\n",
       "      <td>4</td>\n",
       "      <td>0</td>\n",
       "      <td>0</td>\n",
       "      <td>72.15</td>\n",
       "      <td>0</td>\n",
       "      <td>0</td>\n",
       "      <td>8</td>\n",
       "      <td>18</td>\n",
       "    </tr>\n",
       "    <tr>\n",
       "      <th>8</th>\n",
       "      <td>54</td>\n",
       "      <td>2015-08-14 18:40:14-07:00</td>\n",
       "      <td>67214</td>\n",
       "      <td>4</td>\n",
       "      <td>0</td>\n",
       "      <td>0</td>\n",
       "      <td>72.15</td>\n",
       "      <td>0</td>\n",
       "      <td>0</td>\n",
       "      <td>8</td>\n",
       "      <td>18</td>\n",
       "    </tr>\n",
       "    <tr>\n",
       "      <th>9</th>\n",
       "      <td>43</td>\n",
       "      <td>2015-08-14 18:50:15-07:00</td>\n",
       "      <td>67815</td>\n",
       "      <td>4</td>\n",
       "      <td>0</td>\n",
       "      <td>0</td>\n",
       "      <td>72.15</td>\n",
       "      <td>0</td>\n",
       "      <td>0</td>\n",
       "      <td>8</td>\n",
       "      <td>18</td>\n",
       "    </tr>\n",
       "  </tbody>\n",
       "</table>\n",
       "</div>"
      ],
      "text/plain": [
       "   number_people                       date  timestamp  day_of_week  \\\n",
       "0             37  2015-08-14 17:00:11-07:00      61211            4   \n",
       "1             45  2015-08-14 17:20:14-07:00      62414            4   \n",
       "2             40  2015-08-14 17:30:15-07:00      63015            4   \n",
       "3             44  2015-08-14 17:40:16-07:00      63616            4   \n",
       "4             45  2015-08-14 17:50:17-07:00      64217            4   \n",
       "5             46  2015-08-14 18:00:18-07:00      64818            4   \n",
       "6             43  2015-08-14 18:20:08-07:00      66008            4   \n",
       "7             53  2015-08-14 18:30:09-07:00      66609            4   \n",
       "8             54  2015-08-14 18:40:14-07:00      67214            4   \n",
       "9             43  2015-08-14 18:50:15-07:00      67815            4   \n",
       "\n",
       "   is_weekend  is_holiday  temperature  is_start_of_semester  \\\n",
       "0           0           0        71.76                     0   \n",
       "1           0           0        71.76                     0   \n",
       "2           0           0        71.76                     0   \n",
       "3           0           0        71.76                     0   \n",
       "4           0           0        71.76                     0   \n",
       "5           0           0        72.15                     0   \n",
       "6           0           0        72.15                     0   \n",
       "7           0           0        72.15                     0   \n",
       "8           0           0        72.15                     0   \n",
       "9           0           0        72.15                     0   \n",
       "\n",
       "   is_during_semester  month  hour  \n",
       "0                   0      8    17  \n",
       "1                   0      8    17  \n",
       "2                   0      8    17  \n",
       "3                   0      8    17  \n",
       "4                   0      8    17  \n",
       "5                   0      8    18  \n",
       "6                   0      8    18  \n",
       "7                   0      8    18  \n",
       "8                   0      8    18  \n",
       "9                   0      8    18  "
      ]
     },
     "execution_count": 139,
     "metadata": {},
     "output_type": "execute_result"
    }
   ],
   "source": [
    "# Displays raw data\n",
    "data.head(10)"
   ]
  },
  {
   "cell_type": "code",
   "execution_count": 140,
   "id": "82609db4",
   "metadata": {},
   "outputs": [
    {
     "data": {
      "application/vnd.jupyter.widget-view+json": {
       "model_id": "5cb2784e6bf14fb5a0b40898f8f82c7a",
       "version_major": 2,
       "version_minor": 0
      },
      "text/plain": [
       "HBox(children=(HTML(value='<h4>Total count of individuals through the year at each hour of the day</h4><p>As y…"
      ]
     },
     "metadata": {},
     "output_type": "display_data"
    }
   ],
   "source": [
    "display(line_2)"
   ]
  },
  {
   "cell_type": "code",
   "execution_count": 141,
   "id": "990857a1",
   "metadata": {},
   "outputs": [],
   "source": [
    "peopleByHour = []\n",
    "for i in range(1,25):\n",
    "    totalPeoplePerHour = 0\n",
    "    for index, row in data.iterrows():\n",
    "        if(row['timestamp']/3600 > i - 1 and row['timestamp']/3600 < i):\n",
    "            totalPeoplePerHour += row['number_people']\n",
    "    peopleByHour.append(totalPeoplePerHour)\n",
    "\n",
    "sb.barplot(x=list(range(1,25)), y=peopleByHour)\n"
   ]
  },
  {
   "cell_type": "code",
   "execution_count": 183,
   "id": "eba151fc",
   "metadata": {},
   "outputs": [
    {
     "data": {
      "application/vnd.jupyter.widget-view+json": {
       "model_id": "f0680430e2454b818ed7572bd34ef0b9",
       "version_major": 2,
       "version_minor": 0
      },
      "text/plain": [
       "HTML(value='<h4>Gym attendees on the weekends</h4><p>In the violin chart we can see that on the weekends there…"
      ]
     },
     "metadata": {},
     "output_type": "display_data"
    }
   ],
   "source": [
    "display(widgets.HTML(value=\"<h4>Gym attendees on the weekends</h4><p>In the violin chart we can see that on the weekends there is consistently a lower amount of visitors.</p>\"))"
   ]
  },
  {
   "cell_type": "code",
   "execution_count": 181,
   "id": "58ad6542",
   "metadata": {},
   "outputs": [
    {
     "data": {
      "text/plain": [
       "<AxesSubplot:xlabel='is_weekend', ylabel='number_people'>"
      ]
     },
     "execution_count": 181,
     "metadata": {},
     "output_type": "execute_result"
    },
    {
     "data": {
      "image/png": "[encoded data removed]",
      "text/plain": [
       "<Figure size 432x288 with 1 Axes>"
      ]
     },
     "metadata": {
      "needs_background": "light"
     },
     "output_type": "display_data"
    }
   ],
   "source": [
    "sb.violinplot(y = data['number_people'], x = data['is_weekend'])"
   ]
  },
  {
   "cell_type": "code",
   "execution_count": 142,
   "id": "2b739acc",
   "metadata": {},
   "outputs": [
    {
     "data": {
      "application/vnd.jupyter.widget-view+json": {
       "model_id": "2f7db629d899482b820d674c768a484f",
       "version_major": 2,
       "version_minor": 0
      },
      "text/plain": [
       "VBox(children=(HTML(value='<h4>Number of people in the gym at ranging temperatures</h4><p>At first you would t…"
      ]
     },
     "metadata": {},
     "output_type": "display_data"
    }
   ],
   "source": [
    "display(line_3)"
   ]
  },
  {
   "cell_type": "code",
   "execution_count": 143,
   "id": "8a419b17",
   "metadata": {},
   "outputs": [],
   "source": [
    "sb.catplot(x='number_people', y='temperature', data=data, height=10, aspect=30/10)\n"
   ]
  },
  {
   "cell_type": "code",
   "execution_count": 144,
   "id": "1bd3f550",
   "metadata": {},
   "outputs": [
    {
     "data": {
      "text/plain": [
       "LinearRegression()"
      ]
     },
     "execution_count": 144,
     "metadata": {},
     "output_type": "execute_result"
    }
   ],
   "source": [
    "lin_reg = linear_model.LinearRegression()\n",
    "lin_reg.fit(data[['timestamp','temperature']],data.number_people)"
   ]
  },
  {
   "cell_type": "code",
   "execution_count": 145,
   "id": "a2f0268f",
   "metadata": {},
   "outputs": [],
   "source": [
    "#lin_reg.coef_"
   ]
  },
  {
   "cell_type": "code",
   "execution_count": 146,
   "id": "8f696782",
   "metadata": {},
   "outputs": [],
   "source": [
    "#lin_reg.intercept_"
   ]
  },
  {
   "cell_type": "code",
   "execution_count": 147,
   "id": "2615b8b9",
   "metadata": {},
   "outputs": [
    {
     "data": {
      "application/vnd.jupyter.widget-view+json": {
       "model_id": "fb4c8cc6a30e482f860cc67d94aa8caf",
       "version_major": 2,
       "version_minor": 0
      },
      "text/plain": [
       "VBox(children=(HTML(value='<h4>Crowdedness Predictor</h4><p>Select a temperature and time and we will predict …"
      ]
     },
     "metadata": {},
     "output_type": "display_data"
    }
   ],
   "source": [
    "display(line_4)"
   ]
  },
  {
   "cell_type": "code",
   "execution_count": 148,
   "id": "ce3622e8",
   "metadata": {},
   "outputs": [
    {
     "data": {
      "application/vnd.jupyter.widget-view+json": {
       "model_id": "5ef430a3b18840f9871c5821cf36345e",
       "version_major": 2,
       "version_minor": 0
      },
      "text/plain": [
       "Dropdown(description='Hours:', options=('0', '1', '2', '3', '4', '5', '6', '7', '8', '9', '10', '11', '12', '1…"
      ]
     },
     "metadata": {},
     "output_type": "display_data"
    }
   ],
   "source": [
    "hours = widgets.Dropdown(\n",
    "    options=list(range(0,24)),\n",
    "    continuous_update=True,\n",
    "    description='Hours:',\n",
    ")"
   ]
  },
  {
   "cell_type": "code",
   "execution_count": 163,
   "id": "779ffafa",
   "metadata": {},
   "outputs": [],
   "source": [
    "minutes = widgets.Dropdown(\n",
    "    options=list(range(0,61)),\n",
    "    continuous_update=True,\n",
    "    description='Minutes:',\n",
    ")"
   ]
  },
  {
   "cell_type": "code",
   "execution_count": 169,
   "id": "0f7ce80f",
   "metadata": {},
   "outputs": [],
   "source": [
    "temp = widgets.IntSlider(\n",
    "    value=50,\n",
    "    min=0,\n",
    "    max=100,\n",
    "    step=1,\n",
    "    description='Temp:',\n",
    "    continuous_update=True,\n",
    "    orientation='horizontal',\n",
    "    readout=True,\n",
    ")"
   ]
  },
  {
   "cell_type": "code",
   "execution_count": 178,
   "id": "59ac8554",
   "metadata": {},
   "outputs": [
    {
     "data": {
      "application/vnd.jupyter.widget-view+json": {
       "model_id": "1790ca8b84e6452e836020162867a095",
       "version_major": 2,
       "version_minor": 0
      },
      "text/plain": [
       "interactive(children=(Dropdown(description='Hours:', index=13, options=('0', '1', '2', '3', '4', '5', '6', '7'…"
      ]
     },
     "metadata": {},
     "output_type": "display_data"
    },
    {
     "data": {
      "text/plain": [
       "<function __main__.show_predictions(hour, minute, temp)>"
      ]
     },
     "execution_count": 178,
     "metadata": {},
     "output_type": "execute_result"
    }
   ],
   "source": [
    "def show_predictions(hour, minute, temp):\n",
    "    time = (60 * int(minute)) + (3600 * int(hour))\n",
    "    result = lin_reg.predict([[time, temp]])\n",
    "    prediction = result[0]\n",
    "    if prediction < 0:\n",
    "        prediction = 0\n",
    "    print(\"Based on the inputs, you are likely to see {:.0f} people at the gym\".format(prediction))\n",
    "    \n",
    "interact(show_predictions, hour = hours, minute = minutes, temp = temp)"
   ]
  },
  {
   "cell_type": "code",
   "execution_count": 184,
   "id": "720c81a8",
   "metadata": {},
   "outputs": [],
   "source": [
    "!pip freeze > requirements.txt"
   ]
  }
 ],
 "metadata": {
  "kernelspec": {
   "display_name": "Python 3 (ipykernel)",
   "language": "python",
   "name": "python3"
  },
  "language_info": {
   "codemirror_mode": {
    "name": "ipython",
    "version": 3
   },
   "file_extension": ".py",
   "mimetype": "text/x-python",
   "name": "python",
   "nbconvert_exporter": "python",
   "pygments_lexer": "ipython3",
   "version": "3.9.7"
  }
 },
 "nbformat": 4,
 "nbformat_minor": 5
}
