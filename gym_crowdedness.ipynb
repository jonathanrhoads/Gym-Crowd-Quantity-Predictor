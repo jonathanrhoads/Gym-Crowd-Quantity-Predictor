{
 "cells": [
  {
   "cell_type": "code",
   "execution_count": null,
   "id": "a41cef95",
   "metadata": {},
   "outputs": [],
   "source": [
    "# Imports libraries\n",
    "import warnings\n",
    "warnings.filterwarnings('ignore')\n",
    "import pandas as pd\n",
    "#import matplotlib.pyplot as plt\n",
    "import seaborn as sb\n",
    "import ipywidgets as widgets\n",
    "from __future__ import print_function\n",
    "from ipywidgets import interact, interactive, fixed\n",
    "from sklearn import linear_model\n"
   ]
  },
  {
   "cell_type": "code",
   "execution_count": null,
   "id": "6f5928d3",
   "metadata": {},
   "outputs": [],
   "source": [
    "#!jupyter nbextension enable --py widgetsnbextension --sys-prefix\n",
    "#!jupyter serverextension enable voila --sys-prefix"
   ]
  },
  {
   "cell_type": "code",
   "execution_count": null,
   "id": "81cf0156",
   "metadata": {
    "scrolled": true
   },
   "outputs": [],
   "source": [
    "# Imports data\n",
    "data=pd.read_csv('./data.csv')"
   ]
  },
  {
   "cell_type": "code",
   "execution_count": null,
   "id": "2c3fd96a",
   "metadata": {},
   "outputs": [],
   "source": [
    "table_text = widgets.HTML(value=\"<p>Here are the top 10 data points from the data set being used. The data set is information recorded from a gym every 10 minutes for a year.</p>\")\n",
    "purpose_text = widgets.HTML(value=\"<p>Our goal with this data is to use the timestamp and temperature columns then perform multi-linear regression to estimate the amount of people we are likely to find in the gym at a given time and temperature.</p>\")\n",
    "bar_text = widgets.HTML(value=\"<h4>Total count of individuals through the year at each hour of the day</h4><p>As you can see from the bar graph, people are more likely to visit the gym later in the day.</p>\")\n",
    "scatter_text = widgets.HTML(value=\"<h4>Number of people in the gym at ranging temperatures</h4><p>At first you would think that the weather effects when people would show up to the gym. However, this scatter plot shows that it does not have much bearing.</p>\")\n",
    "prediction_text = widgets.HTML(value=\"<h4>Crowdedness Predictor</h4><p>Select a temperature and time and we will predict how many people will be in the gym.</p>\")"
   ]
  },
  {
   "cell_type": "code",
   "execution_count": null,
   "id": "2d1024d1",
   "metadata": {},
   "outputs": [],
   "source": [
    "line_0 = widgets.HTML(value=\"<h1>Gym Crowd Prediction</h1><h4>by Jon Rhoads</h4>\")\n",
    "line_1 = widgets.VBox([table_text, purpose_text])\n",
    "line_2 = widgets.HBox([bar_text])\n",
    "line_3 = widgets.VBox([scatter_text])\n",
    "line_4 = widgets.VBox([prediction_text])"
   ]
  },
  {
   "cell_type": "code",
   "execution_count": null,
   "id": "7e249ca7",
   "metadata": {},
   "outputs": [],
   "source": [
    "display(line_0)"
   ]
  },
  {
   "cell_type": "code",
   "execution_count": null,
   "id": "f57380ea",
   "metadata": {},
   "outputs": [],
   "source": [
    "display(line_1)"
   ]
  },
  {
   "cell_type": "code",
   "execution_count": null,
   "id": "e96a1bdc",
   "metadata": {},
   "outputs": [],
   "source": [
    "# Displays raw data\n",
    "data.head(10)"
   ]
  },
  {
   "cell_type": "code",
   "execution_count": null,
   "id": "7f9a323a",
   "metadata": {},
   "outputs": [],
   "source": [
    "display(line_2)"
   ]
  },
  {
   "cell_type": "code",
   "execution_count": null,
   "id": "990857a1",
   "metadata": {},
   "outputs": [],
   "source": [
    "peopleByHour = []\n",
    "for i in range(1,25):\n",
    "    totalPeoplePerHour = 0\n",
    "    for index, row in data.iterrows():\n",
    "        if(row['timestamp']/3600 > i - 1 and row['timestamp']/3600 < i):\n",
    "            totalPeoplePerHour += row['number_people']\n",
    "    peopleByHour.append(totalPeoplePerHour)\n",
    "\n",
    "sb.barplot(x=list(range(1,25)), y=peopleByHour)\n"
   ]
  },
  {
   "cell_type": "code",
   "execution_count": null,
   "id": "04899cdf",
   "metadata": {},
   "outputs": [],
   "source": [
    "display(widgets.HTML(value=\"<h4>Gym attendees on the weekends</h4><p>In the violin chart we can see that on the weekends there is consistently a lower amount of visitors.</p>\"))"
   ]
  },
  {
   "cell_type": "code",
   "execution_count": null,
   "id": "088f9662",
   "metadata": {},
   "outputs": [],
   "source": [
    "sb.violinplot(y = data['number_people'], x = data['is_weekend'])"
   ]
  },
  {
   "cell_type": "code",
   "execution_count": null,
   "id": "27e023a0",
   "metadata": {},
   "outputs": [],
   "source": [
    "display(line_3)"
   ]
  },
  {
   "cell_type": "code",
   "execution_count": null,
   "id": "8a419b17",
   "metadata": {},
   "outputs": [],
   "source": [
    "sb.catplot(x='number_people', y='temperature', data=data, height=10, aspect=30/10)\n"
   ]
  },
  {
   "cell_type": "code",
   "execution_count": null,
   "id": "1bd3f550",
   "metadata": {},
   "outputs": [],
   "source": [
    "lin_reg = linear_model.LinearRegression()\n",
    "lin_reg.fit(data[['timestamp','temperature']],data.number_people)"
   ]
  },
  {
   "cell_type": "code",
   "execution_count": null,
   "id": "a2f0268f",
   "metadata": {},
   "outputs": [],
   "source": [
    "#lin_reg.coef_"
   ]
  },
  {
   "cell_type": "code",
   "execution_count": null,
   "id": "8f696782",
   "metadata": {},
   "outputs": [],
   "source": [
    "#lin_reg.intercept_"
   ]
  },
  {
   "cell_type": "code",
   "execution_count": null,
   "id": "b90094b9",
   "metadata": {},
   "outputs": [],
   "source": [
    "display(line_4)"
   ]
  },
  {
   "cell_type": "code",
   "execution_count": null,
   "id": "ce3622e8",
   "metadata": {},
   "outputs": [],
   "source": [
    "hours = widgets.Dropdown(\n",
    "    options=list(range(0,24)),\n",
    "    continuous_update=True,\n",
    "    description='Hours:',\n",
    ")"
   ]
  },
  {
   "cell_type": "code",
   "execution_count": null,
   "id": "779ffafa",
   "metadata": {},
   "outputs": [],
   "source": [
    "minutes = widgets.Dropdown(\n",
    "    options=list(range(0,61)),\n",
    "    continuous_update=True,\n",
    "    description='Minutes:',\n",
    ")"
   ]
  },
  {
   "cell_type": "code",
   "execution_count": null,
   "id": "ed2aaa87",
   "metadata": {},
   "outputs": [],
   "source": [
    "temp = widgets.IntSlider(\n",
    "    value=50,\n",
    "    min=0,\n",
    "    max=100,\n",
    "    step=1,\n",
    "    description='Temp:',\n",
    "    continuous_update=True,\n",
    "    orientation='horizontal',\n",
    "    readout=True,\n",
    ")"
   ]
  },
  {
   "cell_type": "code",
   "execution_count": null,
   "id": "55af7798",
   "metadata": {},
   "outputs": [],
   "source": [
    "def show_predictions(hour, minute, temp):\n",
    "    time = (60 * int(minute)) + (3600 * int(hour))\n",
    "    result = lin_reg.predict([[time, temp]])\n",
    "    prediction = result[0]\n",
    "    if prediction < 0:\n",
    "        prediction = 0\n",
    "    print(\"Based on the inputs, you are likely to see {:.0f} people at the gym\".format(prediction))\n",
    "    \n",
    "interact(show_predictions, hour = hours, minute = minutes, temp = temp)"
   ]
  },
  {
   "cell_type": "code",
   "execution_count": null,
   "id": "702f90ea",
   "metadata": {},
   "outputs": [],
   "source": [
    "!pip freeze > requirements.txt"
   ]
  }
 ],
 "metadata": {
  "kernelspec": {
   "display_name": "Python 3 (ipykernel)",
   "language": "python",
   "name": "python3"
  },
  "language_info": {
   "codemirror_mode": {
    "name": "ipython",
    "version": 3
   },
   "file_extension": ".py",
   "mimetype": "text/x-python",
   "name": "python",
   "nbconvert_exporter": "python",
   "pygments_lexer": "ipython3",
   "version": "3.9.7"
  }
 },
 "nbformat": 4,
 "nbformat_minor": 5
}
