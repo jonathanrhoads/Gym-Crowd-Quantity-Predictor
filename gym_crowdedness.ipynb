{
 "cells": [
  {
   "cell_type": "code",
   "execution_count": 210,
   "id": "a41cef95",
   "metadata": {},
   "outputs": [],
   "source": [
    "# Imports libraries\n",
    "import warnings\n",
    "warnings.filterwarnings('ignore')\n",
    "import pandas as pd\n",
    "#import matplotlib.pyplot as plt\n",
    "import seaborn as sb\n",
    "import ipywidgets as widgets\n",
    "from __future__ import print_function\n",
    "from ipywidgets import interact, interactive, fixed\n",
    "from sklearn import linear_model\n"
   ]
  },
  {
   "cell_type": "code",
   "execution_count": 211,
   "id": "6f5928d3",
   "metadata": {},
   "outputs": [],
   "source": [
    "#!jupyter nbextension enable --py widgetsnbextension --sys-prefix\n",
    "#!jupyter serverextension enable voila --sys-prefix"
   ]
  },
  {
   "cell_type": "code",
   "execution_count": 212,
   "id": "81cf0156",
   "metadata": {
    "scrolled": true
   },
   "outputs": [],
   "source": [
    "# Imports data\n",
    "data=pd.read_csv('./data.csv')"
   ]
  },
  {
   "cell_type": "code",
   "execution_count": 213,
   "id": "2a09ffa9",
   "metadata": {},
   "outputs": [],
   "source": [
    "table_text = widgets.HTML(value=\"<p>Here are the top 10 data points from the data set being used. The data set is information recorded from a gym every 10 minutes for a year.</p>\")\n",
    "purpose_text = widgets.HTML(value=\"<p>Our goal with this data is to use the timestamp and temperature columns then perform multi-linear regression to estimate the amount of people we are likely to find in the gym at a given time and temperature.</p>\")\n",
    "bar_text = widgets.HTML(value=\"<h4>Total count of individuals through the year at each hour of the day</h4><p>As you can see from the bar graph, people are more likely to visit the gym later in the day.</p>\")\n",
    "scatter_text = widgets.HTML(value=\"<h4>Number of people in the gym at ranging temperatures</h4><p>At first you would think that the weather effects when people would show up to the gym. However, this scatter plot shows that it does not have much bearing.</p>\")\n",
    "prediction_text = widgets.HTML(value=\"<h4>Crowdedness Predictor</h4><p>Select a temperature and time and we will predict how many people will be in the gym.</p>\")"
   ]
  },
  {
   "cell_type": "code",
   "execution_count": 214,
   "id": "7a5c5b72",
   "metadata": {},
   "outputs": [],
   "source": [
    "line_0 = widgets.HTML(value=\"<h1>Gym Crowd Prediction</h1><h4>by Jon Rhoads</h4>\")\n",
    "line_1 = widgets.VBox([table_text, purpose_text])\n",
    "line_2 = widgets.HBox([bar_text])\n",
    "line_3 = widgets.VBox([scatter_text])\n",
    "line_4 = widgets.VBox([prediction_text])"
   ]
  },
  {
   "cell_type": "code",
   "execution_count": 215,
   "id": "50b99470",
   "metadata": {},
   "outputs": [
    {
     "data": {
      "application/vnd.jupyter.widget-view+json": {
       "model_id": "2ce8b155b509445e8e86dcb51a6e808d",
       "version_major": 2,
       "version_minor": 0
      },
      "text/plain": [
       "HTML(value='<h1>Gym Crowd Prediction</h1><h4>by Jon Rhoads</h4>')"
      ]
     },
     "metadata": {},
     "output_type": "display_data"
    }
   ],
   "source": [
    "display(line_0)"
   ]
  },
  {
   "cell_type": "code",
   "execution_count": 216,
   "id": "1728a746",
   "metadata": {},
   "outputs": [
    {
     "data": {
      "application/vnd.jupyter.widget-view+json": {
       "model_id": "33e688a2925e4fd790e6b4cfd00578ed",
       "version_major": 2,
       "version_minor": 0
      },
      "text/plain": [
       "VBox(children=(HTML(value='<p>Here are the top 10 data points from the data set being used. The data set is in…"
      ]
     },
     "metadata": {},
     "output_type": "display_data"
    }
   ],
   "source": [
    "display(line_1)"
   ]
  },
  {
   "cell_type": "code",
   "execution_count": 217,
   "id": "e96a1bdc",
   "metadata": {},
   "outputs": [
    {
     "data": {
      "text/html": [
       "<div>\n",
       "<style scoped>\n",
       "    .dataframe tbody tr th:only-of-type {\n",
       "        vertical-align: middle;\n",
       "    }\n",
       "\n",
       "    .dataframe tbody tr th {\n",
       "        vertical-align: top;\n",
       "    }\n",
       "\n",
       "    .dataframe thead th {\n",
       "        text-align: right;\n",
       "    }\n",
       "</style>\n",
       "<table border=\"1\" class=\"dataframe\">\n",
       "  <thead>\n",
       "    <tr style=\"text-align: right;\">\n",
       "      <th></th>\n",
       "      <th>number_people</th>\n",
       "      <th>date</th>\n",
       "      <th>timestamp</th>\n",
       "      <th>day_of_week</th>\n",
       "      <th>is_weekend</th>\n",
       "      <th>is_holiday</th>\n",
       "      <th>temperature</th>\n",
       "      <th>is_start_of_semester</th>\n",
       "      <th>is_during_semester</th>\n",
       "      <th>month</th>\n",
       "      <th>hour</th>\n",
       "    </tr>\n",
       "  </thead>\n",
       "  <tbody>\n",
       "    <tr>\n",
       "      <th>0</th>\n",
       "      <td>37</td>\n",
       "      <td>2015-08-14 17:00:11-07:00</td>\n",
       "      <td>61211</td>\n",
       "      <td>4</td>\n",
       "      <td>0</td>\n",
       "      <td>0</td>\n",
       "      <td>71.76</td>\n",
       "      <td>0</td>\n",
       "      <td>0</td>\n",
       "      <td>8</td>\n",
       "      <td>17</td>\n",
       "    </tr>\n",
       "    <tr>\n",
       "      <th>1</th>\n",
       "      <td>45</td>\n",
       "      <td>2015-08-14 17:20:14-07:00</td>\n",
       "      <td>62414</td>\n",
       "      <td>4</td>\n",
       "      <td>0</td>\n",
       "      <td>0</td>\n",
       "      <td>71.76</td>\n",
       "      <td>0</td>\n",
       "      <td>0</td>\n",
       "      <td>8</td>\n",
       "      <td>17</td>\n",
       "    </tr>\n",
       "    <tr>\n",
       "      <th>2</th>\n",
       "      <td>40</td>\n",
       "      <td>2015-08-14 17:30:15-07:00</td>\n",
       "      <td>63015</td>\n",
       "      <td>4</td>\n",
       "      <td>0</td>\n",
       "      <td>0</td>\n",
       "      <td>71.76</td>\n",
       "      <td>0</td>\n",
       "      <td>0</td>\n",
       "      <td>8</td>\n",
       "      <td>17</td>\n",
       "    </tr>\n",
       "    <tr>\n",
       "      <th>3</th>\n",
       "      <td>44</td>\n",
       "      <td>2015-08-14 17:40:16-07:00</td>\n",
       "      <td>63616</td>\n",
       "      <td>4</td>\n",
       "      <td>0</td>\n",
       "      <td>0</td>\n",
       "      <td>71.76</td>\n",
       "      <td>0</td>\n",
       "      <td>0</td>\n",
       "      <td>8</td>\n",
       "      <td>17</td>\n",
       "    </tr>\n",
       "    <tr>\n",
       "      <th>4</th>\n",
       "      <td>45</td>\n",
       "      <td>2015-08-14 17:50:17-07:00</td>\n",
       "      <td>64217</td>\n",
       "      <td>4</td>\n",
       "      <td>0</td>\n",
       "      <td>0</td>\n",
       "      <td>71.76</td>\n",
       "      <td>0</td>\n",
       "      <td>0</td>\n",
       "      <td>8</td>\n",
       "      <td>17</td>\n",
       "    </tr>\n",
       "    <tr>\n",
       "      <th>5</th>\n",
       "      <td>46</td>\n",
       "      <td>2015-08-14 18:00:18-07:00</td>\n",
       "      <td>64818</td>\n",
       "      <td>4</td>\n",
       "      <td>0</td>\n",
       "      <td>0</td>\n",
       "      <td>72.15</td>\n",
       "      <td>0</td>\n",
       "      <td>0</td>\n",
       "      <td>8</td>\n",
       "      <td>18</td>\n",
       "    </tr>\n",
       "    <tr>\n",
       "      <th>6</th>\n",
       "      <td>43</td>\n",
       "      <td>2015-08-14 18:20:08-07:00</td>\n",
       "      <td>66008</td>\n",
       "      <td>4</td>\n",
       "      <td>0</td>\n",
       "      <td>0</td>\n",
       "      <td>72.15</td>\n",
       "      <td>0</td>\n",
       "      <td>0</td>\n",
       "      <td>8</td>\n",
       "      <td>18</td>\n",
       "    </tr>\n",
       "    <tr>\n",
       "      <th>7</th>\n",
       "      <td>53</td>\n",
       "      <td>2015-08-14 18:30:09-07:00</td>\n",
       "      <td>66609</td>\n",
       "      <td>4</td>\n",
       "      <td>0</td>\n",
       "      <td>0</td>\n",
       "      <td>72.15</td>\n",
       "      <td>0</td>\n",
       "      <td>0</td>\n",
       "      <td>8</td>\n",
       "      <td>18</td>\n",
       "    </tr>\n",
       "    <tr>\n",
       "      <th>8</th>\n",
       "      <td>54</td>\n",
       "      <td>2015-08-14 18:40:14-07:00</td>\n",
       "      <td>67214</td>\n",
       "      <td>4</td>\n",
       "      <td>0</td>\n",
       "      <td>0</td>\n",
       "      <td>72.15</td>\n",
       "      <td>0</td>\n",
       "      <td>0</td>\n",
       "      <td>8</td>\n",
       "      <td>18</td>\n",
       "    </tr>\n",
       "    <tr>\n",
       "      <th>9</th>\n",
       "      <td>43</td>\n",
       "      <td>2015-08-14 18:50:15-07:00</td>\n",
       "      <td>67815</td>\n",
       "      <td>4</td>\n",
       "      <td>0</td>\n",
       "      <td>0</td>\n",
       "      <td>72.15</td>\n",
       "      <td>0</td>\n",
       "      <td>0</td>\n",
       "      <td>8</td>\n",
       "      <td>18</td>\n",
       "    </tr>\n",
       "  </tbody>\n",
       "</table>\n",
       "</div>"
      ],
      "text/plain": [
       "   number_people                       date  timestamp  day_of_week  \\\n",
       "0             37  2015-08-14 17:00:11-07:00      61211            4   \n",
       "1             45  2015-08-14 17:20:14-07:00      62414            4   \n",
       "2             40  2015-08-14 17:30:15-07:00      63015            4   \n",
       "3             44  2015-08-14 17:40:16-07:00      63616            4   \n",
       "4             45  2015-08-14 17:50:17-07:00      64217            4   \n",
       "5             46  2015-08-14 18:00:18-07:00      64818            4   \n",
       "6             43  2015-08-14 18:20:08-07:00      66008            4   \n",
       "7             53  2015-08-14 18:30:09-07:00      66609            4   \n",
       "8             54  2015-08-14 18:40:14-07:00      67214            4   \n",
       "9             43  2015-08-14 18:50:15-07:00      67815            4   \n",
       "\n",
       "   is_weekend  is_holiday  temperature  is_start_of_semester  \\\n",
       "0           0           0        71.76                     0   \n",
       "1           0           0        71.76                     0   \n",
       "2           0           0        71.76                     0   \n",
       "3           0           0        71.76                     0   \n",
       "4           0           0        71.76                     0   \n",
       "5           0           0        72.15                     0   \n",
       "6           0           0        72.15                     0   \n",
       "7           0           0        72.15                     0   \n",
       "8           0           0        72.15                     0   \n",
       "9           0           0        72.15                     0   \n",
       "\n",
       "   is_during_semester  month  hour  \n",
       "0                   0      8    17  \n",
       "1                   0      8    17  \n",
       "2                   0      8    17  \n",
       "3                   0      8    17  \n",
       "4                   0      8    17  \n",
       "5                   0      8    18  \n",
       "6                   0      8    18  \n",
       "7                   0      8    18  \n",
       "8                   0      8    18  \n",
       "9                   0      8    18  "
      ]
     },
     "execution_count": 217,
     "metadata": {},
     "output_type": "execute_result"
    }
   ],
   "source": [
    "# Displays raw data\n",
    "data.head(10)"
   ]
  },
  {
   "cell_type": "code",
   "execution_count": 218,
   "id": "80703dfe",
   "metadata": {},
   "outputs": [
    {
     "data": {
      "application/vnd.jupyter.widget-view+json": {
       "model_id": "6856ab3514cf44e892eaa722f888e02b",
       "version_major": 2,
       "version_minor": 0
      },
      "text/plain": [
       "HBox(children=(HTML(value='<h4>Total count of individuals through the year at each hour of the day</h4><p>As y…"
      ]
     },
     "metadata": {},
     "output_type": "display_data"
    }
   ],
   "source": [
    "display(line_2)"
   ]
  },
  {
   "cell_type": "code",
   "execution_count": null,
   "id": "990857a1",
   "metadata": {},
   "outputs": [],
   "source": [
    "peopleByHour = []\n",
    "for i in range(1,25):\n",
    "    totalPeoplePerHour = 0\n",
    "    for index, row in data.iterrows():\n",
    "        if(row['timestamp']/3600 > i - 1 and row['timestamp']/3600 < i):\n",
    "            totalPeoplePerHour += row['number_people']\n",
    "    peopleByHour.append(totalPeoplePerHour)\n",
    "\n",
    "sb.barplot(x=list(range(1,25)), y=peopleByHour)\n"
   ]
  },
  {
   "cell_type": "code",
   "execution_count": null,
   "id": "e78bdc84",
   "metadata": {},
   "outputs": [],
   "source": [
    "display(widgets.HTML(value=\"<h4>Gym attendees on the weekends</h4><p>In the violin chart we can see that on the weekends there is consistently a lower amount of visitors.</p>\"))"
   ]
  },
  {
   "cell_type": "code",
   "execution_count": null,
   "id": "b5116f00",
   "metadata": {},
   "outputs": [],
   "source": [
    "sb.violinplot(y = data['number_people'], x = data['is_weekend'])"
   ]
  },
  {
   "cell_type": "code",
   "execution_count": null,
   "id": "be823661",
   "metadata": {},
   "outputs": [],
   "source": [
    "display(line_3)"
   ]
  },
  {
   "cell_type": "code",
   "execution_count": null,
   "id": "8a419b17",
   "metadata": {},
   "outputs": [],
   "source": [
    "sb.catplot(x='number_people', y='temperature', data=data, height=10, aspect=30/10)\n"
   ]
  },
  {
   "cell_type": "code",
   "execution_count": null,
   "id": "1bd3f550",
   "metadata": {},
   "outputs": [],
   "source": [
    "lin_reg = linear_model.LinearRegression()\n",
    "lin_reg.fit(data[['timestamp','temperature']],data.number_people)"
   ]
  },
  {
   "cell_type": "code",
   "execution_count": null,
   "id": "a2f0268f",
   "metadata": {},
   "outputs": [],
   "source": [
    "#lin_reg.coef_"
   ]
  },
  {
   "cell_type": "code",
   "execution_count": null,
   "id": "8f696782",
   "metadata": {},
   "outputs": [],
   "source": [
    "#lin_reg.intercept_"
   ]
  },
  {
   "cell_type": "code",
   "execution_count": null,
   "id": "8ac54a06",
   "metadata": {},
   "outputs": [],
   "source": [
    "display(line_4)"
   ]
  },
  {
   "cell_type": "code",
   "execution_count": null,
   "id": "ce3622e8",
   "metadata": {},
   "outputs": [],
   "source": [
    "hours = widgets.Dropdown(\n",
    "    options=list(range(0,24)),\n",
    "    continuous_update=True,\n",
    "    description='Hours:',\n",
    ")"
   ]
  },
  {
   "cell_type": "code",
   "execution_count": null,
   "id": "779ffafa",
   "metadata": {},
   "outputs": [],
   "source": [
    "minutes = widgets.Dropdown(\n",
    "    options=list(range(0,61)),\n",
    "    continuous_update=True,\n",
    "    description='Minutes:',\n",
    ")"
   ]
  },
  {
   "cell_type": "code",
   "execution_count": null,
   "id": "f638e9fe",
   "metadata": {},
   "outputs": [],
   "source": [
    "temp = widgets.IntSlider(\n",
    "    value=50,\n",
    "    min=0,\n",
    "    max=100,\n",
    "    step=1,\n",
    "    description='Temp:',\n",
    "    continuous_update=True,\n",
    "    orientation='horizontal',\n",
    "    readout=True,\n",
    ")"
   ]
  },
  {
   "cell_type": "code",
   "execution_count": null,
   "id": "fdad2239",
   "metadata": {},
   "outputs": [],
   "source": [
    "def show_predictions(hour, minute, temp):\n",
    "    time = (60 * int(minute)) + (3600 * int(hour))\n",
    "    result = lin_reg.predict([[time, temp]])\n",
    "    prediction = result[0]\n",
    "    if prediction < 0:\n",
    "        prediction = 0\n",
    "    print(\"Based on the inputs, you are likely to see {:.0f} people at the gym\".format(prediction))\n",
    "    \n",
    "interact(show_predictions, hour = hours, minute = minutes, temp = temp)"
   ]
  },
  {
   "cell_type": "code",
   "execution_count": null,
   "id": "566e8de3",
   "metadata": {},
   "outputs": [],
   "source": [
    "!pip freeze > requirements.txt"
   ]
  }
 ],
 "metadata": {
  "kernelspec": {
   "display_name": "Python 3 (ipykernel)",
   "language": "python",
   "name": "python3"
  },
  "language_info": {
   "codemirror_mode": {
    "name": "ipython",
    "version": 3
   },
   "file_extension": ".py",
   "mimetype": "text/x-python",
   "name": "python",
   "nbconvert_exporter": "python",
   "pygments_lexer": "ipython3",
   "version": "3.9.7"
  }
 },
 "nbformat": 4,
 "nbformat_minor": 5
}
